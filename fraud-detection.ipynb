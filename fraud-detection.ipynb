{
 "cells": [
  {
   "cell_type": "code",
   "execution_count": 1,
   "id": "0e35026a",
   "metadata": {
    "_cell_guid": "b1076dfc-b9ad-4769-8c92-a6c4dae69d19",
    "_uuid": "8f2839f25d086af736a60e9eeb907d3b93b6e0e5",
    "execution": {
     "iopub.execute_input": "2024-10-21T21:06:47.785662Z",
     "iopub.status.busy": "2024-10-21T21:06:47.785173Z",
     "iopub.status.idle": "2024-10-21T21:06:52.823136Z",
     "shell.execute_reply": "2024-10-21T21:06:52.820355Z"
    },
    "papermill": {
     "duration": 5.046216,
     "end_time": "2024-10-21T21:06:52.826785",
     "exception": false,
     "start_time": "2024-10-21T21:06:47.780569",
     "status": "completed"
    },
    "tags": []
   },
   "outputs": [
    {
     "name": "stderr",
     "output_type": "stream",
     "text": [
      "/tmp/ipykernel_17/3922374371.py:26: SettingWithCopyWarning: \n",
      "A value is trying to be set on a copy of a slice from a DataFrame.\n",
      "Try using .loc[row_indexer,col_indexer] = value instead\n",
      "\n",
      "See the caveats in the documentation: https://pandas.pydata.org/pandas-docs/stable/user_guide/indexing.html#returning-a-view-versus-a-copy\n",
      "  filtered_flagged_nfts_df.loc[:, 'num_transactions'] = filtered_flagged_nfts_df['token_id'].map(token_count)\n",
      "/tmp/ipykernel_17/3922374371.py:26: SettingWithCopyWarning: \n",
      "A value is trying to be set on a copy of a slice from a DataFrame.\n",
      "Try using .loc[row_indexer,col_indexer] = value instead\n",
      "\n",
      "See the caveats in the documentation: https://pandas.pydata.org/pandas-docs/stable/user_guide/indexing.html#returning-a-view-versus-a-copy\n",
      "  filtered_flagged_nfts_df.loc[:, 'num_transactions'] = filtered_flagged_nfts_df['token_id'].map(token_count)\n",
      "/tmp/ipykernel_17/3922374371.py:26: SettingWithCopyWarning: \n",
      "A value is trying to be set on a copy of a slice from a DataFrame.\n",
      "Try using .loc[row_indexer,col_indexer] = value instead\n",
      "\n",
      "See the caveats in the documentation: https://pandas.pydata.org/pandas-docs/stable/user_guide/indexing.html#returning-a-view-versus-a-copy\n",
      "  filtered_flagged_nfts_df.loc[:, 'num_transactions'] = filtered_flagged_nfts_df['token_id'].map(token_count)\n",
      "/tmp/ipykernel_17/3922374371.py:26: SettingWithCopyWarning: \n",
      "A value is trying to be set on a copy of a slice from a DataFrame.\n",
      "Try using .loc[row_indexer,col_indexer] = value instead\n",
      "\n",
      "See the caveats in the documentation: https://pandas.pydata.org/pandas-docs/stable/user_guide/indexing.html#returning-a-view-versus-a-copy\n",
      "  filtered_flagged_nfts_df.loc[:, 'num_transactions'] = filtered_flagged_nfts_df['token_id'].map(token_count)\n",
      "/tmp/ipykernel_17/3922374371.py:26: SettingWithCopyWarning: \n",
      "A value is trying to be set on a copy of a slice from a DataFrame.\n",
      "Try using .loc[row_indexer,col_indexer] = value instead\n",
      "\n",
      "See the caveats in the documentation: https://pandas.pydata.org/pandas-docs/stable/user_guide/indexing.html#returning-a-view-versus-a-copy\n",
      "  filtered_flagged_nfts_df.loc[:, 'num_transactions'] = filtered_flagged_nfts_df['token_id'].map(token_count)\n",
      "/tmp/ipykernel_17/3922374371.py:26: SettingWithCopyWarning: \n",
      "A value is trying to be set on a copy of a slice from a DataFrame.\n",
      "Try using .loc[row_indexer,col_indexer] = value instead\n",
      "\n",
      "See the caveats in the documentation: https://pandas.pydata.org/pandas-docs/stable/user_guide/indexing.html#returning-a-view-versus-a-copy\n",
      "  filtered_flagged_nfts_df.loc[:, 'num_transactions'] = filtered_flagged_nfts_df['token_id'].map(token_count)\n",
      "/tmp/ipykernel_17/3922374371.py:26: SettingWithCopyWarning: \n",
      "A value is trying to be set on a copy of a slice from a DataFrame.\n",
      "Try using .loc[row_indexer,col_indexer] = value instead\n",
      "\n",
      "See the caveats in the documentation: https://pandas.pydata.org/pandas-docs/stable/user_guide/indexing.html#returning-a-view-versus-a-copy\n",
      "  filtered_flagged_nfts_df.loc[:, 'num_transactions'] = filtered_flagged_nfts_df['token_id'].map(token_count)\n",
      "/tmp/ipykernel_17/3922374371.py:26: SettingWithCopyWarning: \n",
      "A value is trying to be set on a copy of a slice from a DataFrame.\n",
      "Try using .loc[row_indexer,col_indexer] = value instead\n",
      "\n",
      "See the caveats in the documentation: https://pandas.pydata.org/pandas-docs/stable/user_guide/indexing.html#returning-a-view-versus-a-copy\n",
      "  filtered_flagged_nfts_df.loc[:, 'num_transactions'] = filtered_flagged_nfts_df['token_id'].map(token_count)\n",
      "/tmp/ipykernel_17/3922374371.py:26: SettingWithCopyWarning: \n",
      "A value is trying to be set on a copy of a slice from a DataFrame.\n",
      "Try using .loc[row_indexer,col_indexer] = value instead\n",
      "\n",
      "See the caveats in the documentation: https://pandas.pydata.org/pandas-docs/stable/user_guide/indexing.html#returning-a-view-versus-a-copy\n",
      "  filtered_flagged_nfts_df.loc[:, 'num_transactions'] = filtered_flagged_nfts_df['token_id'].map(token_count)\n",
      "/tmp/ipykernel_17/3922374371.py:26: SettingWithCopyWarning: \n",
      "A value is trying to be set on a copy of a slice from a DataFrame.\n",
      "Try using .loc[row_indexer,col_indexer] = value instead\n",
      "\n",
      "See the caveats in the documentation: https://pandas.pydata.org/pandas-docs/stable/user_guide/indexing.html#returning-a-view-versus-a-copy\n",
      "  filtered_flagged_nfts_df.loc[:, 'num_transactions'] = filtered_flagged_nfts_df['token_id'].map(token_count)\n",
      "/tmp/ipykernel_17/3922374371.py:26: SettingWithCopyWarning: \n",
      "A value is trying to be set on a copy of a slice from a DataFrame.\n",
      "Try using .loc[row_indexer,col_indexer] = value instead\n",
      "\n",
      "See the caveats in the documentation: https://pandas.pydata.org/pandas-docs/stable/user_guide/indexing.html#returning-a-view-versus-a-copy\n",
      "  filtered_flagged_nfts_df.loc[:, 'num_transactions'] = filtered_flagged_nfts_df['token_id'].map(token_count)\n"
     ]
    }
   ],
   "source": [
    "import numpy as np\n",
    "import pandas as pd \n",
    "\n",
    "import os\n",
    "\n",
    "# Path to directories\n",
    "nft_ownership_traces_dir = '/kaggle/input/ethereum-nfts-flagged-for-suspected-wash-trading/nft_ownership_traces'\n",
    "flagged_nfts_dir = '/kaggle/input/ethereum-nfts-flagged-for-suspected-wash-trading/flagged_nfts'\n",
    "\n",
    "# List of all the files\n",
    "csv_files = [file for file in os.listdir(flagged_nfts_dir) if file.endswith('.csv')]\n",
    "# print(csv_files)\n",
    "\n",
    "for file_name in csv_files:\n",
    "    # Load the files\n",
    "    nft_ownership_traces_df = pd.read_csv(os.path.join(nft_ownership_traces_dir, file_name))\n",
    "    flagged_nfts_df = pd.read_csv(os.path.join(flagged_nfts_dir, file_name))\n",
    "\n",
    "    # Count how many times a token is involved in a transaction\n",
    "    token_count = nft_ownership_traces_df['token_id'].value_counts()\n",
    "\n",
    "    # Filter the flagged_nfts \n",
    "    filtered_flagged_nfts_df = flagged_nfts_df[flagged_nfts_df['token_id'].isin(token_count[token_count > 1].index)]\n",
    "\n",
    "    # Add a column for the number of transactions\n",
    "    filtered_flagged_nfts_df.loc[:, 'num_transactions'] = filtered_flagged_nfts_df['token_id'].map(token_count)\n",
    "    \n",
    "    filtered_flagged_nfts_df.to_csv(f'/kaggle/working/{file_name}', index=False)\n",
    "\n"
   ]
  },
  {
   "cell_type": "code",
   "execution_count": 2,
   "id": "adf3bc46",
   "metadata": {
    "execution": {
     "iopub.execute_input": "2024-10-21T21:06:52.839538Z",
     "iopub.status.busy": "2024-10-21T21:06:52.838975Z",
     "iopub.status.idle": "2024-10-21T21:06:52.857467Z",
     "shell.execute_reply": "2024-10-21T21:06:52.856002Z"
    },
    "papermill": {
     "duration": 0.030027,
     "end_time": "2024-10-21T21:06:52.862320",
     "exception": false,
     "start_time": "2024-10-21T21:06:52.832293",
     "status": "completed"
    },
    "tags": []
   },
   "outputs": [
    {
     "name": "stdout",
     "output_type": "stream",
     "text": [
      "      token_id  flagged_trades  num_transactions\n",
      "0            0               0                 2\n",
      "1            3               0                 2\n",
      "2            4               0                 5\n",
      "3            5               0                 2\n",
      "4            6               0                 2\n",
      "...        ...             ...               ...\n",
      "7725      9983               0                 2\n",
      "7726      9994               0                 2\n",
      "7727      9996               0                 2\n",
      "7728      9997               0                 2\n",
      "7729      9998               0                 2\n",
      "\n",
      "[7730 rows x 3 columns]\n"
     ]
    }
   ],
   "source": [
    "filtered_data = pd.read_csv('/kaggle/working/proof-moonbirds.csv')\n",
    "print(filtered_data)"
   ]
  }
 ],
 "metadata": {
  "kaggle": {
   "accelerator": "none",
   "dataSources": [
    {
     "datasetId": 5720527,
     "sourceId": 9418767,
     "sourceType": "datasetVersion"
    }
   ],
   "dockerImageVersionId": 30786,
   "isGpuEnabled": false,
   "isInternetEnabled": false,
   "language": "python",
   "sourceType": "notebook"
  },
  "kernelspec": {
   "display_name": "Python 3",
   "language": "python",
   "name": "python3"
  },
  "language_info": {
   "codemirror_mode": {
    "name": "ipython",
    "version": 3
   },
   "file_extension": ".py",
   "mimetype": "text/x-python",
   "name": "python",
   "nbconvert_exporter": "python",
   "pygments_lexer": "ipython3",
   "version": "3.10.14"
  },
  "papermill": {
   "default_parameters": {},
   "duration": 8.896392,
   "end_time": "2024-10-21T21:06:53.396406",
   "environment_variables": {},
   "exception": null,
   "input_path": "__notebook__.ipynb",
   "output_path": "__notebook__.ipynb",
   "parameters": {},
   "start_time": "2024-10-21T21:06:44.500014",
   "version": "2.6.0"
  }
 },
 "nbformat": 4,
 "nbformat_minor": 5
}
