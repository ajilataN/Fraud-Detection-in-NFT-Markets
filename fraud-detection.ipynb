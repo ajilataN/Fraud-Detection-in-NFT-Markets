{
 "cells": [
  {
   "cell_type": "code",
   "execution_count": 1,
   "id": "1a5f8737",
   "metadata": {
    "_cell_guid": "b1076dfc-b9ad-4769-8c92-a6c4dae69d19",
    "_uuid": "8f2839f25d086af736a60e9eeb907d3b93b6e0e5",
    "execution": {
     "iopub.execute_input": "2024-10-21T18:58:19.868590Z",
     "iopub.status.busy": "2024-10-21T18:58:19.867965Z",
     "iopub.status.idle": "2024-10-21T18:58:20.751702Z",
     "shell.execute_reply": "2024-10-21T18:58:20.750403Z"
    },
    "papermill": {
     "duration": 0.891276,
     "end_time": "2024-10-21T18:58:20.754607",
     "exception": false,
     "start_time": "2024-10-21T18:58:19.863331",
     "status": "completed"
    },
    "tags": []
   },
   "outputs": [
    {
     "name": "stdout",
     "output_type": "stream",
     "text": [
      "/kaggle/input/ethereum-nfts-flagged-for-suspected-wash-trading/nft_ownership_traces/meebits.csv\n",
      "/kaggle/input/ethereum-nfts-flagged-for-suspected-wash-trading/nft_ownership_traces/hapeprime.csv\n",
      "/kaggle/input/ethereum-nfts-flagged-for-suspected-wash-trading/nft_ownership_traces/pudgypenguins.csv\n",
      "/kaggle/input/ethereum-nfts-flagged-for-suspected-wash-trading/nft_ownership_traces/boredapeyachtclub.csv\n",
      "/kaggle/input/ethereum-nfts-flagged-for-suspected-wash-trading/nft_ownership_traces/bored-ape-kennel-club.csv\n",
      "/kaggle/input/ethereum-nfts-flagged-for-suspected-wash-trading/nft_ownership_traces/clonex.csv\n",
      "/kaggle/input/ethereum-nfts-flagged-for-suspected-wash-trading/nft_ownership_traces/proof-moonbirds.csv\n",
      "/kaggle/input/ethereum-nfts-flagged-for-suspected-wash-trading/nft_ownership_traces/veefriends.csv\n",
      "/kaggle/input/ethereum-nfts-flagged-for-suspected-wash-trading/nft_ownership_traces/beanzofficial.csv\n",
      "/kaggle/input/ethereum-nfts-flagged-for-suspected-wash-trading/nft_ownership_traces/azuki.csv\n",
      "/kaggle/input/ethereum-nfts-flagged-for-suspected-wash-trading/nft_ownership_traces/mutant-ape-yacht-club.csv\n",
      "/kaggle/input/ethereum-nfts-flagged-for-suspected-wash-trading/flagged_nfts/meebits.csv\n",
      "/kaggle/input/ethereum-nfts-flagged-for-suspected-wash-trading/flagged_nfts/hapeprime.csv\n",
      "/kaggle/input/ethereum-nfts-flagged-for-suspected-wash-trading/flagged_nfts/pudgypenguins.csv\n",
      "/kaggle/input/ethereum-nfts-flagged-for-suspected-wash-trading/flagged_nfts/boredapeyachtclub.csv\n",
      "/kaggle/input/ethereum-nfts-flagged-for-suspected-wash-trading/flagged_nfts/bored-ape-kennel-club.csv\n",
      "/kaggle/input/ethereum-nfts-flagged-for-suspected-wash-trading/flagged_nfts/clonex.csv\n",
      "/kaggle/input/ethereum-nfts-flagged-for-suspected-wash-trading/flagged_nfts/proof-moonbirds.csv\n",
      "/kaggle/input/ethereum-nfts-flagged-for-suspected-wash-trading/flagged_nfts/veefriends.csv\n",
      "/kaggle/input/ethereum-nfts-flagged-for-suspected-wash-trading/flagged_nfts/beanzofficial.csv\n",
      "/kaggle/input/ethereum-nfts-flagged-for-suspected-wash-trading/flagged_nfts/azuki.csv\n",
      "/kaggle/input/ethereum-nfts-flagged-for-suspected-wash-trading/flagged_nfts/mutant-ape-yacht-club.csv\n"
     ]
    }
   ],
   "source": [
    "# This Python 3 environment comes with many helpful analytics libraries installed\n",
    "# It is defined by the kaggle/python Docker image: https://github.com/kaggle/docker-python\n",
    "# For example, here's several helpful packages to load\n",
    "\n",
    "import numpy as np # linear algebra\n",
    "import pandas as pd # data processing, CSV file I/O (e.g. pd.read_csv)\n",
    "\n",
    "# Input data files are available in the read-only \"../input/\" directory\n",
    "# For example, running this (by clicking run or pressing Shift+Enter) will list all files under the input directory\n",
    "\n",
    "import os\n",
    "for dirname, _, filenames in os.walk('/kaggle/input'):\n",
    "    for filename in filenames:\n",
    "        print(os.path.join(dirname, filename))\n",
    "\n",
    "# You can write up to 20GB to the current directory (/kaggle/working/) that gets preserved as output when you create a version using \"Save & Run All\" \n",
    "# You can also write temporary files to /kaggle/temp/, but they won't be saved outside of the current session"
   ]
  },
  {
   "cell_type": "code",
   "execution_count": 2,
   "id": "15b216cf",
   "metadata": {
    "execution": {
     "iopub.execute_input": "2024-10-21T18:58:20.762534Z",
     "iopub.status.busy": "2024-10-21T18:58:20.761925Z",
     "iopub.status.idle": "2024-10-21T18:58:20.988802Z",
     "shell.execute_reply": "2024-10-21T18:58:20.987687Z"
    },
    "papermill": {
     "duration": 0.233094,
     "end_time": "2024-10-21T18:58:20.991634",
     "exception": false,
     "start_time": "2024-10-21T18:58:20.758540",
     "status": "completed"
    },
    "tags": []
   },
   "outputs": [],
   "source": [
    "data = pd.read_csv('/kaggle/input/ethereum-nfts-flagged-for-suspected-wash-trading/nft_ownership_traces/azuki.csv')"
   ]
  },
  {
   "cell_type": "code",
   "execution_count": 3,
   "id": "4c0392a9",
   "metadata": {
    "execution": {
     "iopub.execute_input": "2024-10-21T18:58:20.997412Z",
     "iopub.status.busy": "2024-10-21T18:58:20.997010Z",
     "iopub.status.idle": "2024-10-21T18:58:21.020588Z",
     "shell.execute_reply": "2024-10-21T18:58:21.019490Z"
    },
    "papermill": {
     "duration": 0.029108,
     "end_time": "2024-10-21T18:58:21.023012",
     "exception": false,
     "start_time": "2024-10-21T18:58:20.993904",
     "status": "completed"
    },
    "tags": []
   },
   "outputs": [
    {
     "data": {
      "text/html": [
       "<div>\n",
       "<style scoped>\n",
       "    .dataframe tbody tr th:only-of-type {\n",
       "        vertical-align: middle;\n",
       "    }\n",
       "\n",
       "    .dataframe tbody tr th {\n",
       "        vertical-align: top;\n",
       "    }\n",
       "\n",
       "    .dataframe thead th {\n",
       "        text-align: right;\n",
       "    }\n",
       "</style>\n",
       "<table border=\"1\" class=\"dataframe\">\n",
       "  <thead>\n",
       "    <tr style=\"text-align: right;\">\n",
       "      <th></th>\n",
       "      <th>collection_address</th>\n",
       "      <th>collection_name</th>\n",
       "      <th>token_id</th>\n",
       "      <th>from</th>\n",
       "      <th>to</th>\n",
       "      <th>block_no</th>\n",
       "      <th>timestamp</th>\n",
       "      <th>price_usd</th>\n",
       "      <th>price_eth</th>\n",
       "    </tr>\n",
       "  </thead>\n",
       "  <tbody>\n",
       "    <tr>\n",
       "      <th>0</th>\n",
       "      <td>0xed5af388653567af2f388e6224dc7c4b3241c544</td>\n",
       "      <td>azuki</td>\n",
       "      <td>0</td>\n",
       "      <td>0x0000000000000000000000000000000000000000</td>\n",
       "      <td>0xd45058bf25bbd8f586124c479d384c8c708ce23a</td>\n",
       "      <td>13988541</td>\n",
       "      <td>1641961048</td>\n",
       "      <td>NaN</td>\n",
       "      <td>NaN</td>\n",
       "    </tr>\n",
       "    <tr>\n",
       "      <th>1</th>\n",
       "      <td>0xed5af388653567af2f388e6224dc7c4b3241c544</td>\n",
       "      <td>azuki</td>\n",
       "      <td>1</td>\n",
       "      <td>0x0000000000000000000000000000000000000000</td>\n",
       "      <td>0xd45058bf25bbd8f586124c479d384c8c708ce23a</td>\n",
       "      <td>13988541</td>\n",
       "      <td>1641961048</td>\n",
       "      <td>NaN</td>\n",
       "      <td>NaN</td>\n",
       "    </tr>\n",
       "    <tr>\n",
       "      <th>2</th>\n",
       "      <td>0xed5af388653567af2f388e6224dc7c4b3241c544</td>\n",
       "      <td>azuki</td>\n",
       "      <td>2</td>\n",
       "      <td>0x0000000000000000000000000000000000000000</td>\n",
       "      <td>0xd45058bf25bbd8f586124c479d384c8c708ce23a</td>\n",
       "      <td>13988541</td>\n",
       "      <td>1641961048</td>\n",
       "      <td>NaN</td>\n",
       "      <td>NaN</td>\n",
       "    </tr>\n",
       "    <tr>\n",
       "      <th>3</th>\n",
       "      <td>0xed5af388653567af2f388e6224dc7c4b3241c544</td>\n",
       "      <td>azuki</td>\n",
       "      <td>3</td>\n",
       "      <td>0x0000000000000000000000000000000000000000</td>\n",
       "      <td>0xd45058bf25bbd8f586124c479d384c8c708ce23a</td>\n",
       "      <td>13988541</td>\n",
       "      <td>1641961048</td>\n",
       "      <td>NaN</td>\n",
       "      <td>NaN</td>\n",
       "    </tr>\n",
       "    <tr>\n",
       "      <th>4</th>\n",
       "      <td>0xed5af388653567af2f388e6224dc7c4b3241c544</td>\n",
       "      <td>azuki</td>\n",
       "      <td>3</td>\n",
       "      <td>0xd45058bf25bbd8f586124c479d384c8c708ce23a</td>\n",
       "      <td>0x645d2b4bfb047566ff60e2e7112373885935eac4</td>\n",
       "      <td>14073289</td>\n",
       "      <td>1643093900</td>\n",
       "      <td>NaN</td>\n",
       "      <td>NaN</td>\n",
       "    </tr>\n",
       "  </tbody>\n",
       "</table>\n",
       "</div>"
      ],
      "text/plain": [
       "                           collection_address collection_name  token_id  \\\n",
       "0  0xed5af388653567af2f388e6224dc7c4b3241c544           azuki         0   \n",
       "1  0xed5af388653567af2f388e6224dc7c4b3241c544           azuki         1   \n",
       "2  0xed5af388653567af2f388e6224dc7c4b3241c544           azuki         2   \n",
       "3  0xed5af388653567af2f388e6224dc7c4b3241c544           azuki         3   \n",
       "4  0xed5af388653567af2f388e6224dc7c4b3241c544           azuki         3   \n",
       "\n",
       "                                         from  \\\n",
       "0  0x0000000000000000000000000000000000000000   \n",
       "1  0x0000000000000000000000000000000000000000   \n",
       "2  0x0000000000000000000000000000000000000000   \n",
       "3  0x0000000000000000000000000000000000000000   \n",
       "4  0xd45058bf25bbd8f586124c479d384c8c708ce23a   \n",
       "\n",
       "                                           to  block_no   timestamp  \\\n",
       "0  0xd45058bf25bbd8f586124c479d384c8c708ce23a  13988541  1641961048   \n",
       "1  0xd45058bf25bbd8f586124c479d384c8c708ce23a  13988541  1641961048   \n",
       "2  0xd45058bf25bbd8f586124c479d384c8c708ce23a  13988541  1641961048   \n",
       "3  0xd45058bf25bbd8f586124c479d384c8c708ce23a  13988541  1641961048   \n",
       "4  0x645d2b4bfb047566ff60e2e7112373885935eac4  14073289  1643093900   \n",
       "\n",
       "   price_usd  price_eth  \n",
       "0        NaN        NaN  \n",
       "1        NaN        NaN  \n",
       "2        NaN        NaN  \n",
       "3        NaN        NaN  \n",
       "4        NaN        NaN  "
      ]
     },
     "execution_count": 3,
     "metadata": {},
     "output_type": "execute_result"
    }
   ],
   "source": [
    "data.head()"
   ]
  }
 ],
 "metadata": {
  "kaggle": {
   "accelerator": "none",
   "dataSources": [
    {
     "datasetId": 5720527,
     "sourceId": 9418767,
     "sourceType": "datasetVersion"
    }
   ],
   "dockerImageVersionId": 30786,
   "isGpuEnabled": false,
   "isInternetEnabled": false,
   "language": "python",
   "sourceType": "notebook"
  },
  "kernelspec": {
   "display_name": "Python 3",
   "language": "python",
   "name": "python3"
  },
  "language_info": {
   "codemirror_mode": {
    "name": "ipython",
    "version": 3
   },
   "file_extension": ".py",
   "mimetype": "text/x-python",
   "name": "python",
   "nbconvert_exporter": "python",
   "pygments_lexer": "ipython3",
   "version": "3.10.14"
  },
  "papermill": {
   "default_parameters": {},
   "duration": 4.443663,
   "end_time": "2024-10-21T18:58:21.546030",
   "environment_variables": {},
   "exception": null,
   "input_path": "__notebook__.ipynb",
   "output_path": "__notebook__.ipynb",
   "parameters": {},
   "start_time": "2024-10-21T18:58:17.102367",
   "version": "2.6.0"
  }
 },
 "nbformat": 4,
 "nbformat_minor": 5
}
